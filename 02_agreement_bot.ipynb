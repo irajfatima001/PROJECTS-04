{
  "nbformat": 4,
  "nbformat_minor": 0,
  "metadata": {
    "colab": {
      "provenance": [],
      "authorship_tag": "ABX9TyMS1VRvoSWwCnClTPOBa9Yn",
      "include_colab_link": true
    },
    "kernelspec": {
      "name": "python3",
      "display_name": "Python 3"
    },
    "language_info": {
      "name": "python"
    }
  },
  "cells": [
    {
      "cell_type": "markdown",
      "metadata": {
        "id": "view-in-github",
        "colab_type": "text"
      },
      "source": [
        "<a href=\"https://colab.research.google.com/github/irajfatima001/PROJECTS-04/blob/main/02_agreement_bot.ipynb\" target=\"_parent\"><img src=\"https://colab.research.google.com/assets/colab-badge.svg\" alt=\"Open In Colab\"/></a>"
      ]
    },
    {
      "cell_type": "code",
      "execution_count": null,
      "metadata": {
        "colab": {
          "base_uri": "https://localhost:8080/"
        },
        "id": "2kxwzpNFvZQv",
        "outputId": "c33fb7cd-7c0e-4060-9138-a19e24b7f2f0"
      },
      "outputs": [
        {
          "output_type": "stream",
          "name": "stdout",
          "text": [
            "What is your favorite animal? cat\n",
            "My favorite animal is the cat!\n"
          ]
        }
      ],
      "source": [
        "def main():\n",
        "  #user's fav animal name input\n",
        "  favurite_animal = (input(\"What is your favorite animal? \"))\n",
        "  #print response\n",
        "  print(\"My favorite animal is the \" + favurite_animal + \"!\")\n",
        "if __name__ == '__main__':\n",
        "  main()"
      ]
    }
  ]
}