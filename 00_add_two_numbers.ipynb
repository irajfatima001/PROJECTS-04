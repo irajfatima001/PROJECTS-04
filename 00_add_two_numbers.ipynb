{
  "nbformat": 4,
  "nbformat_minor": 0,
  "metadata": {
    "colab": {
      "provenance": [],
      "authorship_tag": "ABX9TyOLVqi2WAgWXxftdAvP5op0",
      "include_colab_link": true
    },
    "kernelspec": {
      "name": "python3",
      "display_name": "Python 3"
    },
    "language_info": {
      "name": "python"
    }
  },
  "cells": [
    {
      "cell_type": "markdown",
      "metadata": {
        "id": "view-in-github",
        "colab_type": "text"
      },
      "source": [
        "<a href=\"https://colab.research.google.com/github/irajfatima001/PROJECTS-04/blob/main/00_add_two_numbers.ipynb\" target=\"_parent\"><img src=\"https://colab.research.google.com/assets/colab-badge.svg\" alt=\"Open In Colab\"/></a>"
      ]
    },
    {
      "cell_type": "code",
      "execution_count": 3,
      "metadata": {
        "colab": {
          "base_uri": "https://localhost:8080/"
        },
        "id": "orZ1Kn-QoSgI",
        "outputId": "cd87c4fd-9c2c-4cb6-f0d2-b856338d9230"
      },
      "outputs": [
        {
          "output_type": "stream",
          "name": "stdout",
          "text": [
            "This program will ad two numbers:\n",
            "Enter first number:3\n",
            "Enter second number:3\n",
            "The total is 6\n"
          ]
        }
      ],
      "source": [
        "def main():\n",
        "  print(\"This program will ad two numbers:\")\n",
        "\n",
        "  number1 =int (input(\"Enter first number:\"))\n",
        "  number2 =int (input(\"Enter second number:\"))\n",
        "\n",
        "  total = number1 + number2\n",
        "\n",
        "  print(\"The total is\", total)\n",
        "\n",
        "main()"
      ]
    }
  ]
}